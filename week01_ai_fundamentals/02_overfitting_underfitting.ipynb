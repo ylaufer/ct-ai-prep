{
 "cells": [
  {
   "cell_type": "markdown",
   "id": "3c2be702",
   "metadata": {},
   "source": [
    "# Overfitting vs Underfitting – Visual Demo\n",
    "\n",
    "In this notebook, we demonstrate how different model complexities affect performance."
   ]
  },
  {
   "cell_type": "code",
   "execution_count": null,
   "id": "5586a77f",
   "metadata": {},
   "outputs": [],
   "source": [
    "from sklearn.datasets import make_classification\n",
    "from sklearn.model_selection import train_test_split\n",
    "import matplotlib.pyplot as plt\n",
    "\n",
    "# Create a synthetic binary classification dataset\n",
    "X, y = make_classification(n_samples=300, n_features=2, n_redundant=0, n_informative=2,\n",
    "                           n_clusters_per_class=1, random_state=42)\n",
    "\n",
    "# Split into training and testing sets\n",
    "X_train, X_test, y_train, y_test = train_test_split(X, y, test_size=0.3, random_state=42)\n"
   ]
  },
  {
   "cell_type": "code",
   "execution_count": null,
   "id": "e2094c1b",
   "metadata": {},
   "outputs": [],
   "source": [
    "# Visualize the data\n",
    "plt.figure(figsize=(6, 5))\n",
    "plt.scatter(X_train[:, 0], X_train[:, 1], c=y_train, cmap='bwr', edgecolor='k')\n",
    "plt.title('Training Data')\n",
    "plt.xlabel('Feature 1')\n",
    "plt.ylabel('Feature 2')\n",
    "plt.show()"
   ]
  },
  {
   "cell_type": "code",
   "execution_count": null,
   "id": "5a9e8fbb",
   "metadata": {},
   "outputs": [],
   "source": [
    "from sklearn.tree import DecisionTreeClassifier\n",
    "from sklearn.metrics import accuracy_score\n",
    "\n",
    "# Underfitting model (very shallow)\n",
    "clf_underfit = DecisionTreeClassifier(max_depth=1, random_state=42)\n",
    "clf_underfit.fit(X_train, y_train)\n",
    "\n",
    "# Overfitting model (deep tree)\n",
    "clf_overfit = DecisionTreeClassifier(max_depth=20, random_state=42)\n",
    "clf_overfit.fit(X_train, y_train)\n",
    "\n",
    "# Accuracy\n",
    "print(\"Underfit - Train Acc:\", accuracy_score(y_train, clf_underfit.predict(X_train)))\n",
    "print(\"Underfit - Test Acc:\", accuracy_score(y_test, clf_underfit.predict(X_test)))\n",
    "print()\n",
    "print(\"Overfit - Train Acc:\", accuracy_score(y_train, clf_overfit.predict(X_train)))\n",
    "print(\"Overfit - Test Acc:\", accuracy_score(y_test, clf_overfit.predict(X_test)))"
   ]
  },
  {
   "cell_type": "code",
   "execution_count": null,
   "id": "dff45a69",
   "metadata": {},
   "outputs": [],
   "source": [
    "import numpy as np\n",
    "\n",
    "def plot_decision_boundary(clf, X, y, title):\n",
    "    h = .02\n",
    "    x_min, x_max = X[:, 0].min() - .5, X[:, 0].max() + .5\n",
    "    y_min, y_max = X[:, 1].min() - .5, X[:, 1].max() + .5\n",
    "    xx, yy = np.meshgrid(np.arange(x_min, x_max, h),\n",
    "                         np.arange(y_min, y_max, h))\n",
    "\n",
    "    Z = clf.predict(np.c_[xx.ravel(), yy.ravel()])\n",
    "    Z = Z.reshape(xx.shape)\n",
    "\n",
    "    plt.figure(figsize=(6,5))\n",
    "    plt.contourf(xx, yy, Z, cmap='bwr', alpha=0.3)\n",
    "    plt.scatter(X[:, 0], X[:, 1], c=y, cmap='bwr', edgecolors='k')\n",
    "    plt.title(title)\n",
    "    plt.xlabel('Feature 1')\n",
    "    plt.ylabel('Feature 2')\n",
    "    plt.show()\n",
    "\n",
    "# Plot decision boundaries\n",
    "plot_decision_boundary(clf_underfit, X_train, y_train, \"Underfitting Model (Depth=1)\")\n",
    "plot_decision_boundary(clf_overfit, X_train, y_train, \"Overfitting Model (Depth=20)\")\n"
   ]
  }
 ],
 "metadata": {
  "kernelspec": {
   "display_name": ".venv (3.13.3)",
   "language": "python",
   "name": "python3"
  },
  "language_info": {
   "name": "python",
   "version": "3.13.3"
  }
 },
 "nbformat": 4,
 "nbformat_minor": 5
}
