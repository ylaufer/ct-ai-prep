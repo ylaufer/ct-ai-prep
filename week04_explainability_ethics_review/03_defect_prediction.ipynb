{
 "cells": [
  {
   "cell_type": "markdown",
   "id": "106c57d6",
   "metadata": {},
   "source": [
    "# Predicting Defect-Prone Modules with ML\n",
    "\n",
    "In this notebook, we simulate test history data and use it to predict the likelihood of software defects."
   ]
  },
  {
   "cell_type": "code",
   "execution_count": null,
   "id": "96b63660",
   "metadata": {},
   "outputs": [],
   "source": [
    "import pandas as pd\n",
    "import numpy as np\n",
    "from sklearn.model_selection import train_test_split\n",
    "from sklearn.ensemble import RandomForestClassifier\n",
    "from sklearn.metrics import classification_report\n",
    "\n",
    "# Create synthetic dataset\n",
    "np.random.seed(42)\n",
    "n = 1000\n",
    "df = pd.DataFrame({\n",
    "    'lines_of_code': np.random.randint(50, 2000, n),\n",
    "    'complexity': np.random.randint(1, 20, n),\n",
    "    'num_commits': np.random.randint(1, 100, n),\n",
    "    'past_defects': np.random.randint(0, 5, n),\n",
    "    'module_age_months': np.random.randint(1, 48, n),\n",
    "})\n",
    "\n",
    "# Target: defect-prone (1) or not (0)\n",
    "df['is_defective'] = (df['complexity'] > 10) & (df['past_defects'] > 0)\n",
    "df['is_defective'] = df['is_defective'].astype(int)\n",
    "\n",
    "df.head()"
   ]
  },
  {
   "cell_type": "code",
   "execution_count": null,
   "id": "e519a236",
   "metadata": {},
   "outputs": [],
   "source": [
    "# Split data\n",
    "X = df.drop('is_defective', axis=1)\n",
    "y = df['is_defective']\n",
    "\n",
    "X_train, X_test, y_train, y_test = train_test_split(X, y, test_size=0.3, random_state=42)\n",
    "\n",
    "# Train classifier\n",
    "model = RandomForestClassifier(random_state=42)\n",
    "model.fit(X_train, y_train)\n",
    "\n",
    "# Evaluate\n",
    "y_pred = model.predict(X_test)\n",
    "print(classification_report(y_test, y_pred))"
   ]
  },
  {
   "cell_type": "code",
   "execution_count": null,
   "id": "142b9c50",
   "metadata": {},
   "outputs": [],
   "source": [
    "# View probabilities of being defective\n",
    "df_probs = X_test.copy()\n",
    "df_probs['predicted_prob'] = model.predict_proba(X_test)[:, 1]\n",
    "df_probs['true_label'] = y_test.values\n",
    "df_probs.sort_values(by='predicted_prob', ascending=False).head(10)"
   ]
  },
  {
   "cell_type": "markdown",
   "id": "b7a36aed",
   "metadata": {},
   "source": [
    "### ✅ Summary\n",
    "\n",
    "- We simulated a dataset of software module metrics (LOC, complexity, etc.)\n",
    "- Trained a model to predict defect-proneness\n",
    "- Used it to prioritize testing (e.g., modules with >0.8 defect probability)\n",
    "\n",
    "This approach is used in AI-driven testing to focus effort and reduce QA cost.\n"
   ]
  }
 ],
 "metadata": {
  "kernelspec": {
   "display_name": ".venv (3.13.3)",
   "language": "python",
   "name": "python3"
  },
  "language_info": {
   "name": "python",
   "version": "3.13.3"
  }
 },
 "nbformat": 4,
 "nbformat_minor": 5
}
