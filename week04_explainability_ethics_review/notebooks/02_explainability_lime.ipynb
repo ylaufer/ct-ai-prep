{
 "cells": [
  {
   "cell_type": "markdown",
   "id": "1408ae6e",
   "metadata": {},
   "source": [
    "# Explainability with LIME\n",
    "\n",
    "In this notebook, we use LIME to explain predictions made by a machine learning model."
   ]
  },
  {
   "cell_type": "code",
   "execution_count": null,
   "id": "a090d368",
   "metadata": {},
   "outputs": [],
   "source": [
    "import pandas as pd\n",
    "from sklearn.datasets import load_breast_cancer\n",
    "from sklearn.model_selection import train_test_split\n",
    "from sklearn.ensemble import RandomForestClassifier\n",
    "\n",
    "# Load data\n",
    "data = load_breast_cancer()\n",
    "X = pd.DataFrame(data.data, columns=data.feature_names)\n",
    "y = data.target\n",
    "\n",
    "# Train/test split\n",
    "X_train, X_test, y_train, y_test = train_test_split(X, y, test_size=0.3, random_state=42)\n",
    "\n",
    "# Train model\n",
    "model = RandomForestClassifier(random_state=42)\n",
    "model.fit(X_train, y_train)\n"
   ]
  },
  {
   "cell_type": "code",
   "execution_count": null,
   "id": "8430950e",
   "metadata": {},
   "outputs": [],
   "source": [
    "# If running locally and LIME is not installed:\n",
    "# !pip install lime\n",
    "\n",
    "from lime.lime_tabular import LimeTabularExplainer"
   ]
  },
  {
   "cell_type": "code",
   "execution_count": null,
   "id": "03bf9af6",
   "metadata": {},
   "outputs": [],
   "source": [
    "# Create LIME explainer\n",
    "explainer = LimeTabularExplainer(X_train.values,\n",
    "                                 feature_names=X.columns.tolist(),\n",
    "                                 class_names=data.target_names,\n",
    "                                 discretize_continuous=True)\n",
    "\n",
    "# Choose an instance to explain\n",
    "i = 5\n",
    "exp = explainer.explain_instance(X_test.values[i], model.predict_proba, num_features=5)\n",
    "exp.show_in_notebook(show_table=True)\n"
   ]
  },
  {
   "cell_type": "markdown",
   "id": "cae24d1d",
   "metadata": {},
   "source": [
    "### ✅ Summary\n",
    "\n",
    "- We trained a classifier on breast cancer data.\n",
    "- We used LIME to explain one prediction:\n",
    "  - Which features pushed the prediction toward malignant or benign\n",
    "- You can try other instances (`i = 10`, `i = 50`, etc.) or other models (e.g. logistic regression)\n",
    "\n",
    "This is a practical application of **local explainability** used in regulated industries and AI auditing.\n"
   ]
  }
 ],
 "metadata": {
  "kernelspec": {
   "display_name": ".venv (3.13.3)",
   "language": "python",
   "name": "python3"
  },
  "language_info": {
   "name": "python",
   "version": "3.13.3"
  }
 },
 "nbformat": 4,
 "nbformat_minor": 5
}
