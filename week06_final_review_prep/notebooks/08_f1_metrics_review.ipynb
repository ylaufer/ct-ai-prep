{
 "cells": [
  {
   "cell_type": "markdown",
   "id": "085999e9",
   "metadata": {},
   "source": [
    "# 🎯 F1 Score, Precision & Recall: Final Review"
   ]
  },
  {
   "cell_type": "code",
   "execution_count": null,
   "id": "4a94f4f5",
   "metadata": {},
   "outputs": [],
   "source": [
    "from sklearn.metrics import precision_score, recall_score, f1_score\n",
    "\n",
    "y_true = [1, 0, 1, 1, 0, 1, 0]\n",
    "y_pred = [1, 0, 1, 0, 0, 1, 1]\n",
    "\n",
    "precision = precision_score(y_true, y_pred)\n",
    "recall = recall_score(y_true, y_pred)\n",
    "f1 = f1_score(y_true, y_pred)\n",
    "\n",
    "print(f\"Precision: {precision:.2f}\")\n",
    "print(f\"Recall: {recall:.2f}\")\n",
    "print(f\"F1 Score: {f1:.2f}\")"
   ]
  },
  {
   "cell_type": "markdown",
   "id": "8281302b",
   "metadata": {},
   "source": [
    "## 📌 Exercise\n",
    "- Modify `y_true` and `y_pred` to simulate:\n",
    "  - A highly precise model\n",
    "  - A highly sensitive (high recall) model\n",
    "  - A balanced model\n",
    "- Recalculate F1 Score and explain which is better for fraud detection.\n"
   ]
  }
 ],
 "metadata": {},
 "nbformat": 4,
 "nbformat_minor": 5
}