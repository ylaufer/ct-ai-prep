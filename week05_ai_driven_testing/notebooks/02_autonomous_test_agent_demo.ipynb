{
 "cells": [
  {
   "cell_type": "markdown",
   "id": "0405987d",
   "metadata": {},
   "source": [
    "# 🧠 Autonomous Test Agent Demo\n",
    "\n",
    "This notebook demonstrates how an AI agent can:\n",
    "1. Interpret a test request in natural language\n",
    "2. Generate test steps using OpenAI\n",
    "3. Simulate execution\n",
    "4. Report results or open a ticket."
   ]
  },
  {
   "cell_type": "code",
   "execution_count": null,
   "id": "e65b2ef2",
   "metadata": {},
   "outputs": [],
   "source": [
    "# Install dependencies if needed\n",
    "!pip install openai"
   ]
  },
  {
   "cell_type": "code",
   "execution_count": null,
   "id": "b0029e18",
   "metadata": {},
   "outputs": [],
   "source": [
    "# Step 1: Setup OpenAI key\n",
    "import os\n",
    "os.environ['OPENAI_API_KEY'] = 'your-api-key-here'"
   ]
  },
  {
   "cell_type": "code",
   "execution_count": null,
   "id": "341cfc07",
   "metadata": {},
   "outputs": [],
   "source": [
    "# Step 2: Ask GPT to generate a test scenario\n",
    "from openai import OpenAI\n",
    "from openai import ChatCompletion\n",
    "\n",
    "prompt = '''Generate test steps to verify login functionality with email and password.'''"
   ]
  },
  {
   "cell_type": "code",
   "execution_count": null,
   "id": "9461a8fd",
   "metadata": {},
   "outputs": [],
   "source": [
    "# Step 3: Mock test execution (simulation)\n",
    "def run_test_case(step):\n",
    "    print(f\"Running step: {step}... ✅\")\n",
    "\n",
    "steps = ['Go to login page', 'Enter email', 'Enter password', 'Click login', 'Verify dashboard loads']\n",
    "for step in steps:\n",
    "    run_test_case(step)"
   ]
  },
  {
   "cell_type": "code",
   "execution_count": null,
   "id": "ac83d8c1",
   "metadata": {},
   "outputs": [],
   "source": [
    "# Step 4: Auto-create a Jira ticket (mock)\n",
    "def create_jira_ticket(summary, description):\n",
    "    print(f\"JIRA Created: {summary}\\n{description}\")\n",
    "\n",
    "create_jira_ticket(\"Login flow validated\", \"All steps passed successfully\")"
   ]
  }
 ],
 "metadata": {},
 "nbformat": 4,
 "nbformat_minor": 5
}