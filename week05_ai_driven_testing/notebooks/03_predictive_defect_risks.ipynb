{
 "cells": [
  {
   "cell_type": "markdown",
   "id": "ca01b553",
   "metadata": {},
   "source": [
    "# 📊 Predictive Defect Risk Analysis\n",
    "\n",
    "Train a model to predict defect-prone modules using historical data."
   ]
  },
  {
   "cell_type": "code",
   "execution_count": null,
   "id": "664e9604",
   "metadata": {},
   "outputs": [],
   "source": [
    "import pandas as pd\n",
    "from sklearn.model_selection import train_test_split\n",
    "from sklearn.ensemble import RandomForestClassifier\n",
    "from sklearn.metrics import classification_report"
   ]
  },
  {
   "cell_type": "code",
   "execution_count": null,
   "id": "86c58c8d",
   "metadata": {},
   "outputs": [],
   "source": [
    "# Simulated dataset\n",
    "import numpy as np\n",
    "data = pd.DataFrame({\n",
    "    'lines_of_code': np.random.randint(100, 1000, 100),\n",
    "    'cyclomatic_complexity': np.random.randint(1, 15, 100),\n",
    "    'defect': np.random.randint(0, 2, 100)\n",
    "})"
   ]
  },
  {
   "cell_type": "code",
   "execution_count": null,
   "id": "be54536b",
   "metadata": {},
   "outputs": [],
   "source": [
    "# Split & Train\n",
    "X = data[['lines_of_code', 'cyclomatic_complexity']]\n",
    "y = data['defect']\n",
    "X_train, X_test, y_train, y_test = train_test_split(X, y, test_size=0.3)\n",
    "\n",
    "clf = RandomForestClassifier()\n",
    "clf.fit(X_train, y_train)\n",
    "\n",
    "preds = clf.predict(X_test)\n",
    "print(classification_report(y_test, preds))"
   ]
  },
  {
   "cell_type": "code",
   "execution_count": null,
   "id": "97faa382",
   "metadata": {},
   "outputs": [],
   "source": [
    "# Optional: Explainability with SHAP\n",
    "# !pip install shap\n",
    "# import shap\n",
    "# explainer = shap.Explainer(clf, X_test)\n",
    "# shap_values = explainer(X_test)\n",
    "# shap.plots.beeswarm(shap_values)"
   ]
  }
 ],
 "metadata": {},
 "nbformat": 4,
 "nbformat_minor": 5
}