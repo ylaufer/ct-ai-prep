{
 "cells": [
  {
   "cell_type": "markdown",
   "id": "76a98858",
   "metadata": {},
   "source": [
    "# Model Evaluation Metrics – Classification\n",
    "\n",
    "This notebook walks through the most important evaluation metrics for classification tasks."
   ]
  },
  {
   "cell_type": "code",
   "execution_count": null,
   "id": "227bef0b",
   "metadata": {},
   "outputs": [],
   "source": [
    "from sklearn.datasets import load_breast_cancer\n",
    "from sklearn.model_selection import train_test_split\n",
    "from sklearn.linear_model import LogisticRegression\n",
    "from sklearn.metrics import (accuracy_score, precision_score, recall_score,\n",
    "                             f1_score, confusion_matrix, classification_report,\n",
    "                             roc_auc_score, RocCurveDisplay)\n",
    "\n",
    "# Load dataset\n",
    "data = load_breast_cancer()\n",
    "X = data.data\n",
    "y = data.target\n",
    "\n",
    "# Split data\n",
    "X_train, X_test, y_train, y_test = train_test_split(X, y, test_size=0.3, random_state=42)\n"
   ]
  },
  {
   "cell_type": "code",
   "execution_count": null,
   "id": "e871bf31",
   "metadata": {},
   "outputs": [],
   "source": [
    "# Train a basic classifier\n",
    "clf = LogisticRegression(max_iter=10000)\n",
    "clf.fit(X_train, y_train)\n",
    "y_pred = clf.predict(X_test)\n",
    "y_prob = clf.predict_proba(X_test)[:, 1]"
   ]
  },
  {
   "cell_type": "code",
   "execution_count": null,
   "id": "50f04103",
   "metadata": {},
   "outputs": [],
   "source": [
    "# Evaluate the model\n",
    "print(\"Accuracy:\", accuracy_score(y_test, y_pred))\n",
    "print(\"Precision:\", precision_score(y_test, y_pred))\n",
    "print(\"Recall:\", recall_score(y_test, y_pred))\n",
    "print(\"F1 Score:\", f1_score(y_test, y_pred))\n",
    "print(\"\\nConfusion Matrix:\")\n",
    "print(confusion_matrix(y_test, y_pred))\n",
    "print(\"\\nClassification Report:\")\n",
    "print(classification_report(y_test, y_pred))"
   ]
  },
  {
   "cell_type": "code",
   "execution_count": null,
   "id": "c8023736",
   "metadata": {},
   "outputs": [],
   "source": [
    "# ROC AUC Score\n",
    "print(\"ROC AUC Score:\", roc_auc_score(y_test, y_prob))\n",
    "\n",
    "# ROC Curve\n",
    "RocCurveDisplay.from_estimator(clf, X_test, y_test);"
   ]
  },
  {
   "cell_type": "markdown",
   "id": "b791ed17",
   "metadata": {},
   "source": [
    "### ✅ Summary\n",
    "\n",
    "- **Accuracy** tells you the overall correctness, but may mislead with imbalanced data.\n",
    "- **Precision** and **Recall** focus on different kinds of errors.\n",
    "- **F1 Score** balances both.\n",
    "- **ROC-AUC** evaluates classification performance at all thresholds.\n",
    "\n",
    "Experiment with other models or imbalanced datasets to deepen your understanding.\n"
   ]
  }
 ],
 "metadata": {},
 "nbformat": 4,
 "nbformat_minor": 5
}
