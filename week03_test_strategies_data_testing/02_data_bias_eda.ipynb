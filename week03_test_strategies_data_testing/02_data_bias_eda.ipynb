{
 "cells": [
  {
   "cell_type": "markdown",
   "id": "998f2144",
   "metadata": {},
   "source": [
    "# Exploratory Data Analysis (EDA) for Bias Detection\n",
    "\n",
    "In this notebook, we'll use the Adult Income dataset to explore potential data bias."
   ]
  },
  {
   "cell_type": "code",
   "execution_count": null,
   "id": "20b14ae6",
   "metadata": {},
   "outputs": [],
   "source": [
    "import pandas as pd\n",
    "import seaborn as sns\n",
    "import matplotlib.pyplot as plt\n",
    "\n",
    "# Load dataset\n",
    "url = 'https://raw.githubusercontent.com/selva86/datasets/master/Adult.csv'\n",
    "df = pd.read_csv(url)\n",
    "df.head()"
   ]
  },
  {
   "cell_type": "code",
   "execution_count": null,
   "id": "2f2ca552",
   "metadata": {},
   "outputs": [],
   "source": [
    "# Quick overview\n",
    "df.info()\n",
    "df.describe(include='all')"
   ]
  },
  {
   "cell_type": "code",
   "execution_count": null,
   "id": "c2cbe889",
   "metadata": {},
   "outputs": [],
   "source": [
    "# Gender distribution\n",
    "sns.countplot(x='sex', data=df)\n",
    "plt.title('Gender Distribution')\n",
    "plt.show()\n",
    "\n",
    "# Income comparison by gender\n",
    "sns.countplot(x='sex', hue='income', data=df)\n",
    "plt.title('Income Level by Gender')\n",
    "plt.show()"
   ]
  },
  {
   "cell_type": "code",
   "execution_count": null,
   "id": "f1293d5a",
   "metadata": {},
   "outputs": [],
   "source": [
    "# Income comparison by race\n",
    "plt.figure(figsize=(10, 4))\n",
    "sns.countplot(x='race', hue='income', data=df)\n",
    "plt.title('Income Level by Race')\n",
    "plt.xticks(rotation=45)\n",
    "plt.show()"
   ]
  },
  {
   "cell_type": "code",
   "execution_count": null,
   "id": "5c2462db",
   "metadata": {},
   "outputs": [],
   "source": [
    "# Age distribution by income\n",
    "sns.histplot(data=df, x='age', hue='income', bins=30, kde=True)\n",
    "plt.title('Age Distribution by Income')\n",
    "plt.show()"
   ]
  },
  {
   "cell_type": "code",
   "execution_count": null,
   "id": "44193b15",
   "metadata": {},
   "outputs": [],
   "source": [
    "# Encode categorical features\n",
    "df_encoded = df.copy()\n",
    "df_encoded = pd.get_dummies(df_encoded, drop_first=True)\n",
    "\n",
    "# Correlation heatmap\n",
    "plt.figure(figsize=(12, 6))\n",
    "sns.heatmap(df_encoded.corr(), cmap='coolwarm', center=0)\n",
    "plt.title('Correlation Heatmap')\n",
    "plt.show()"
   ]
  },
  {
   "cell_type": "markdown",
   "id": "f40dcd35",
   "metadata": {},
   "source": [
    "### ✅ Summary\n",
    "\n",
    "- We visualized income disparities across gender and race\n",
    "- We used histogram and count plots to detect potential bias\n",
    "- Correlation heatmaps help explore relationships in encoded data\n",
    "\n",
    "EDA is a first step in detecting fairness issues before training an AI model.\n"
   ]
  }
 ],
 "metadata": {},
 "nbformat": 4,
 "nbformat_minor": 5
}
