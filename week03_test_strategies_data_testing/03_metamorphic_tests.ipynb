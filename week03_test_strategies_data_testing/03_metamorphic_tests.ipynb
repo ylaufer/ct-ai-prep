{
 "cells": [
  {
   "cell_type": "markdown",
   "id": "dff3ef63",
   "metadata": {},
   "source": [
    "# Metamorphic Testing for AI Systems\n",
    "\n",
    "This notebook demonstrates how to define and execute metamorphic test cases when a traditional oracle is not available."
   ]
  },
  {
   "cell_type": "code",
   "execution_count": null,
   "id": "2a9bd52a",
   "metadata": {},
   "outputs": [],
   "source": [
    "import numpy as np\n",
    "import pandas as pd\n",
    "from sklearn.datasets import load_iris\n",
    "from sklearn.ensemble import RandomForestClassifier\n",
    "from sklearn.model_selection import train_test_split\n",
    "\n",
    "# Load and split Iris data\n",
    "iris = load_iris()\n",
    "X = iris.data\n",
    "y = iris.target\n",
    "\n",
    "X_train, X_test, y_train, y_test = train_test_split(X, y, test_size=0.3, random_state=42)\n",
    "\n",
    "clf = RandomForestClassifier(random_state=42)\n",
    "clf.fit(X_train, y_train)\n",
    "\n",
    "# Original predictions\n",
    "original_preds = clf.predict(X_test)\n"
   ]
  },
  {
   "cell_type": "code",
   "execution_count": null,
   "id": "90468007",
   "metadata": {},
   "outputs": [],
   "source": [
    "# Metamorphic Relation 1: Input order should not affect predictions\n",
    "\n",
    "X_test_shuffled = X_test.copy()\n",
    "np.random.shuffle(X_test_shuffled)\n",
    "\n",
    "shuffled_preds = clf.predict(X_test_shuffled)\n",
    "\n",
    "# Compare distributions\n",
    "original_dist = np.bincount(original_preds)\n",
    "shuffled_dist = np.bincount(shuffled_preds)\n",
    "\n",
    "print(\"Original prediction distribution:\", original_dist)\n",
    "print(\"Shuffled prediction distribution:\", shuffled_dist)\n"
   ]
  },
  {
   "cell_type": "code",
   "execution_count": null,
   "id": "3ded5836",
   "metadata": {},
   "outputs": [],
   "source": [
    "# Metamorphic Relation 2: Duplicate input rows should produce same predictions\n",
    "\n",
    "duplicate_input = np.tile(X_test[0], (3, 1))\n",
    "duplicate_preds = clf.predict(duplicate_input)\n",
    "\n",
    "print(\"Duplicate predictions:\", duplicate_preds)\n",
    "print(\"All equal:\", np.all(duplicate_preds == duplicate_preds[0]))"
   ]
  },
  {
   "cell_type": "code",
   "execution_count": null,
   "id": "0d6caeb4",
   "metadata": {},
   "outputs": [],
   "source": [
    "# Metamorphic Relation 3: Simple feature scaling (not expected to pass for all models)\n",
    "\n",
    "scaled_input = X_test * 1.5\n",
    "scaled_preds = clf.predict(scaled_input)\n",
    "\n",
    "print(\"Original preds (first 10):\", original_preds[:10])\n",
    "print(\"Scaled preds    (first 10):\", scaled_preds[:10])\n"
   ]
  },
  {
   "cell_type": "markdown",
   "id": "f68a71b5",
   "metadata": {},
   "source": [
    "### ✅ Summary\n",
    "\n",
    "- We explored 3 metamorphic relations:\n",
    "  1. Order invariance\n",
    "  2. Consistency for duplicate inputs\n",
    "  3. Input scaling (may or may not hold depending on the model)\n",
    "\n",
    "- These are useful when there's **no expected output** — a common case in ML systems.\n",
    "\n",
    "Try adding your own transformations and compare the output behaviors.\n"
   ]
  }
 ],
 "metadata": {
  "kernelspec": {
   "display_name": ".venv (3.13.3)",
   "language": "python",
   "name": "python3"
  },
  "language_info": {
   "name": "python",
   "version": "3.13.3"
  }
 },
 "nbformat": 4,
 "nbformat_minor": 5
}
